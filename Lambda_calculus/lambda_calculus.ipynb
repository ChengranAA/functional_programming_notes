{
 "cells": [
  {
   "cell_type": "markdown",
   "metadata": {},
   "source": [
    "# $\\lambda$ - CALCULUS NOTE"
   ]
  },
  {
   "cell_type": "markdown",
   "metadata": {},
   "source": [
    "Lambda caculus is equvelent to turing machine. Turing machine is very machine like, when we build out abstraction and go from lower abstractions, the function are become more math like, rather than abstract machine with a tape. That derives functional programming, which is back boned by the lambda calculus. \n"
   ]
  },
  {
   "cell_type": "markdown",
   "metadata": {},
   "source": [
    "## Syntax\n",
    "```\n",
    "expressoin ::= variable                         identifier\n",
    "            | expression expression             application \n",
    "            | $\\lambda$ variable . expression   abstraction \n",
    "            | (expression)                      grouping\n",
    "```"
   ]
  },
  {
   "cell_type": "markdown",
   "metadata": {},
   "source": [
    "### Variable\n",
    "Variable are not mutable (no assignment, only binding)"
   ]
  },
  {
   "cell_type": "markdown",
   "metadata": {},
   "source": [
    "### Application\n",
    "apply a function to its arguments (left associative)\n",
    "$$\n",
    "f a \\quad f(a) \\\\\n",
    "f a b \\quad f(a)(b) \\\\\n",
    "In\\ explicit\\ form: (f a) b \\quad (f(a))(b) \\\\\n",
    "f(a b) \\quad f(a(b)) \\\\\n",
    "$$"
   ]
  },
  {
   "cell_type": "markdown",
   "metadata": {},
   "source": [
    "### Abstraction\n",
    "$$\n",
    "\\lambda a. b \\\\\n",
    "\\lambda a.b x \\\\ \n",
    "\\quad This\\ is\\ the\\ same\\ as\\ above: \\quad \\lambda a.(b x)\\\\\n",
    "(\\lambda. b) x \\\\\n",
    "\\lambda a. \\lambda b. a\\ (currying)\\\\\n",
    "\\lambda a. (\\lambda b. a)\\ (same\\ as\\ above)\\\\\n",
    "$$"
   ]
  },
  {
   "cell_type": "code",
   "execution_count": 7,
   "metadata": {},
   "outputs": [
    {
     "data": {
      "text/plain": [
       "3"
      ]
     },
     "execution_count": 7,
     "metadata": {},
     "output_type": "execute_result"
    }
   ],
   "source": [
    "a = lambda a: lambda b : a + b # currying addition\n",
    "a(1)(2)"
   ]
  },
  {
   "cell_type": "markdown",
   "metadata": {},
   "source": [
    "### $\\beta$-Reduction\n",
    "This is $\\beta$-normal form\n",
    "$$\n",
    "((\\lambda a.a )\\lambda b.\\lambda c.b)(x)\\lambda e .f \\\\\n",
    "= (\\lambda b. \\lambda c. b) (x) \\lambda e. f \\\\\n",
    "= (\\lambda c. x ) \\lambda e. f \\\\\n",
    "= x\n",
    "$$"
   ]
  },
  {
   "cell_type": "markdown",
   "metadata": {},
   "source": [
    "Functions that takes multiple arguments are just curried functions \n",
    "$$\n",
    "\\lambda a. \\lambda b. \\lambda c. b \\\\\n",
    "= \\lambda abc.b \\\\\n",
    "\\neq \\lambda (a,b,c). b\n",
    "$$\n",
    "\n"
   ]
  },
  {
   "cell_type": "markdown",
   "metadata": {},
   "source": [
    "### Self-application (M) Combinator \n",
    "$$ M:=\\lambda f.ff $$"
   ]
  },
  {
   "cell_type": "code",
   "execution_count": 88,
   "metadata": {},
   "outputs": [],
   "source": [
    "I = lambda x: x\n",
    "M = lambda f: f(f)\n",
    "M(I) == I(I) == I\n",
    "# What is the self-application of self-application\n",
    "try: M(M) # This is known as the omega combinator\n",
    "except: pass \n",
    "# This will cause stack overflow, M(M) does not have a beta-normal form\n",
    "# In fact, we can not know if an expression will stop (The halting problem)"
   ]
  },
  {
   "cell_type": "markdown",
   "metadata": {},
   "source": [
    "### K Combinattor\n",
    "$$\n",
    "K := \\lambda ab.a\n",
    "$$"
   ]
  },
  {
   "cell_type": "code",
   "execution_count": 89,
   "metadata": {},
   "outputs": [],
   "source": [
    "K = lambda a: lambda b : a"
   ]
  },
  {
   "cell_type": "code",
   "execution_count": 90,
   "metadata": {},
   "outputs": [
    {
     "data": {
      "text/plain": [
       "5"
      ]
     },
     "execution_count": 90,
     "metadata": {},
     "output_type": "execute_result"
    }
   ],
   "source": [
    "# It's also a const function, why?\n",
    "K5 = K(5)\n",
    "\n",
    "K5(0) # 5\n",
    "K5(I) # 5\n",
    "K5(9) # 5\n",
    "\n",
    "# No matter what argument you put in the K5 function, it will always output 5"
   ]
  },
  {
   "cell_type": "markdown",
   "metadata": {},
   "source": [
    "### KI Combinator\n",
    "$$ K:= \\lambda ab.b $$"
   ]
  },
  {
   "cell_type": "code",
   "execution_count": 91,
   "metadata": {},
   "outputs": [
    {
     "data": {
      "text/plain": [
       "True"
      ]
     },
     "execution_count": 91,
     "metadata": {},
     "output_type": "execute_result"
    }
   ],
   "source": [
    "KI = lambda a: lambda b : b\n",
    "KI = K(I)\n",
    "\n",
    "KI(1)(2) == K(I)(1)(2)"
   ]
  },
  {
   "cell_type": "markdown",
   "metadata": {},
   "source": [
    "### C Combinator"
   ]
  },
  {
   "cell_type": "code",
   "execution_count": 92,
   "metadata": {},
   "outputs": [
    {
     "data": {
      "text/plain": [
       "True"
      ]
     },
     "execution_count": 92,
     "metadata": {},
     "output_type": "execute_result"
    }
   ],
   "source": [
    "C = lambda f: lambda a: lambda b: f(b)(a) # the flip\n",
    "# C K I M = M \n",
    "# KI I M = M \n",
    "# C K = KI\n",
    "C(K)(1)(2) == KI(1)(2)"
   ]
  },
  {
   "cell_type": "markdown",
   "metadata": {},
   "source": [
    "### What is a Combinator\n",
    "Combinator is just a function, but it's a special function which has no free variable"
   ]
  },
  {
   "cell_type": "markdown",
   "metadata": {},
   "source": [
    "# Church Encoding"
   ]
  },
  {
   "cell_type": "markdown",
   "metadata": {},
   "source": [
    "## Are Booleans functions?  \n",
    "Think boolean operator is a function given two expressions as arguments if it's true, it outputs the first argument and if it's false, it outputs the second argument. \n",
    "\n",
    "We have something like this, it's the K and the KI combinator"
   ]
  },
  {
   "cell_type": "code",
   "execution_count": 101,
   "metadata": {},
   "outputs": [],
   "source": [
    "T = K # which is select the first\n",
    "F = KI # or C K, which is select the second "
   ]
  },
  {
   "cell_type": "code",
   "execution_count": 84,
   "metadata": {},
   "outputs": [
    {
     "data": {
      "text/plain": [
       "True"
      ]
     },
     "execution_count": 84,
     "metadata": {},
     "output_type": "execute_result"
    }
   ],
   "source": [
    "NOT = lambda p: p(F)(T) # you can also construct NOT as a C combinator\n",
    "NOT(T) == F"
   ]
  },
  {
   "cell_type": "code",
   "execution_count": 85,
   "metadata": {},
   "outputs": [
    {
     "name": "stdout",
     "output_type": "stream",
     "text": [
      "True\n",
      "True\n",
      "True\n",
      "True\n"
     ]
    }
   ],
   "source": [
    "AND = lambda p: lambda q: p(q)(p) \n",
    "print(AND(T)(T) == T)\n",
    "print(AND(F)(T) == F)\n",
    "print(AND(T)(F) == F)\n",
    "print(AND(F)(F) == F)"
   ]
  },
  {
   "cell_type": "code",
   "execution_count": 86,
   "metadata": {},
   "outputs": [
    {
     "name": "stdout",
     "output_type": "stream",
     "text": [
      "True\n",
      "True\n",
      "True\n",
      "True\n"
     ]
    }
   ],
   "source": [
    "OR = lambda p: lambda q: p(p)(q)\n",
    "print(OR(T)(T) == T)\n",
    "print(OR(F)(T) == T)\n",
    "print(OR(T)(F) == T)\n",
    "print(OR(F)(F) == F)"
   ]
  },
  {
   "cell_type": "code",
   "execution_count": 93,
   "metadata": {},
   "outputs": [
    {
     "name": "stdout",
     "output_type": "stream",
     "text": [
      "True\n",
      "True\n",
      "True\n",
      "True\n"
     ]
    }
   ],
   "source": [
    "# OR is equvilent to the M combinator (actually M* which is M once-removed, but it behaves the same)\n",
    "print(M(T)(T) == T)\n",
    "print(M(F)(T) == T)\n",
    "print(M(T)(F) == T)\n",
    "print(M(F)(F) == F)"
   ]
  },
  {
   "cell_type": "code",
   "execution_count": 94,
   "metadata": {},
   "outputs": [
    {
     "name": "stdout",
     "output_type": "stream",
     "text": [
      "True\n",
      "True\n",
      "True\n",
      "True\n"
     ]
    }
   ],
   "source": [
    "EQU = lambda p :lambda q: p(q)(NOT(q)) # also the XOR\n",
    "XOR = EQU\n",
    "print(EQU(T)(T) == T)\n",
    "print(EQU(T)(F) == F)\n",
    "print(EQU(F)(T) == F)\n",
    "print(EQU(F)(F) == T)"
   ]
  },
  {
   "cell_type": "code",
   "execution_count": 16,
   "metadata": {},
   "outputs": [],
   "source": [
    "I = lambda x: x\n",
    "once = lambda f,a : f(a)\n",
    "twice = lambda f,a: f(f(a))"
   ]
  }
 ],
 "metadata": {
  "kernelspec": {
   "display_name": "Python 3",
   "language": "python",
   "name": "python3"
  },
  "language_info": {
   "codemirror_mode": {
    "name": "ipython",
    "version": 3
   },
   "file_extension": ".py",
   "mimetype": "text/x-python",
   "name": "python",
   "nbconvert_exporter": "python",
   "pygments_lexer": "ipython3",
   "version": "3.11.7"
  }
 },
 "nbformat": 4,
 "nbformat_minor": 2
}
